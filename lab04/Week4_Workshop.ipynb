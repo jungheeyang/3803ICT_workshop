{
 "cells": [
  {
   "cell_type": "markdown",
   "id": "posted-russian",
   "metadata": {},
   "source": [
    "# Forecasting"
   ]
  },
  {
   "cell_type": "markdown",
   "id": "inside-origin",
   "metadata": {},
   "source": [
    "## 1. Visualize and interpret the pattern of this time-series"
   ]
  },
  {
   "cell_type": "code",
   "execution_count": 4,
   "id": "manual-suicide",
   "metadata": {},
   "outputs": [],
   "source": [
    "import pandas as pd\n",
    "import numpy as np\n",
    "import matplotlib.pyplot as plt\n",
    "import seaborn as sns"
   ]
  },
  {
   "cell_type": "code",
   "execution_count": 14,
   "id": "capital-democrat",
   "metadata": {},
   "outputs": [],
   "source": [
    "data = {1: 5384, 2: 8081, 3: 10282, 4: 9156, 5: 6118, 6: 9139, \n",
    "        7: 12460, 8: 10717, 9: 7825, 10: 9693, 11: 15177, 12: 10990}"
   ]
  },
  {
   "cell_type": "code",
   "execution_count": 30,
   "id": "demanding-nation",
   "metadata": {},
   "outputs": [],
   "source": [
    "data = pd.DataFrame(data, index=['Sales'])"
   ]
  },
  {
   "cell_type": "code",
   "execution_count": 59,
   "id": "swedish-circulation",
   "metadata": {},
   "outputs": [
    {
     "data": {
      "image/png": "[encoded data removed]",
      "text/plain": [
       "<Figure size 432x288 with 1 Axes>"
      ]
     },
     "metadata": {
      "needs_background": "light"
     },
     "output_type": "display_data"
    }
   ],
   "source": [
    "plt.plot(np.array(data.keys()), data.values[0])\n",
    "plt.xlim([0, 16])\n",
    "# m = slope, b=intercept\n",
    "m, b = np.polyfit(np.array(data.keys()), data.values[0], 1)\n",
    "plt.plot(np.array(data.keys()), m*np.array(data.keys())+b)\n",
    "\n",
    "plt.show()"
   ]
  },
  {
   "cell_type": "markdown",
   "id": "stable-poetry",
   "metadata": {},
   "source": [
    "## 2. Predict future demand in month 13,14,15,16 without seasonality"
   ]
  },
  {
   "cell_type": "markdown",
   "id": "temporal-behalf",
   "metadata": {},
   "source": [
    "### 1) Moving Average"
   ]
  },
  {
   "cell_type": "code",
   "execution_count": 103,
   "id": "endangered-cassette",
   "metadata": {},
   "outputs": [
    {
     "data": {
      "text/plain": [
       "1         0\n",
       "2         0\n",
       "3         0\n",
       "4      7915\n",
       "5      9173\n",
       "6      8518\n",
       "7      8137\n",
       "8      9239\n",
       "9     10772\n",
       "10    10334\n",
       "11     9411\n",
       "12    10898\n",
       "Name: MV, dtype: int64"
      ]
     },
     "execution_count": 103,
     "metadata": {},
     "output_type": "execute_result"
    }
   ],
   "source": [
    "# Add a Moving Average row \n",
    "df_T = data.T\n",
    "df_T['MV'] = [0]*12\n",
    "\n",
    "for i in range(4, 13):\n",
    "    df_T['MV'][i] = (df_T['Sales'][i-1] + df_T['Sales'][i-2] + df_T['Sales'][i-3])/3\n",
    "    \n",
    "df_T['MV']"
   ]
  },
  {
   "cell_type": "code",
   "execution_count": 107,
   "id": "patient-dragon",
   "metadata": {},
   "outputs": [],
   "source": [
    "# Calculate 13, 14, 15, 16 month \n",
    "df_T['MV'][13]  = (df_T['MV'][10] + df_T['MV'][11] + df_T['MV'][12])/3\n",
    "df_T['MV'][14]  = (df_T['MV'][11] + df_T['MV'][12] + m13)/3\n",
    "df_T['MV'][15]  = (df_T['MV'][12] + m13 + m14)/3\n",
    "df_T['MV'][16]  = (m13 + m14 + m15)/3"
   ]
  },
  {
   "cell_type": "code",
   "execution_count": 113,
   "id": "favorite-comparison",
   "metadata": {},
   "outputs": [
    {
     "name": "stdout",
     "output_type": "stream",
     "text": [
      "10214.333333333334 10174.444444444445 10428.925925925927 10272.56790123457\n"
     ]
    }
   ],
   "source": [
    "print(df_T['MV'][13],df_T['MV'][14],df_T['MV'][15],df_T['MV'][16])"
   ]
  },
  {
   "cell_type": "markdown",
   "id": "fiscal-thanks",
   "metadata": {},
   "source": [
    "### 2) Exponential Smoothing"
   ]
  },
  {
   "cell_type": "code",
   "execution_count": 117,
   "id": "appreciated-appointment",
   "metadata": {
    "scrolled": false
   },
   "outputs": [
    {
     "data": {
      "text/html": [
       "<div>\n",
       "<style scoped>\n",
       "    .dataframe tbody tr th:only-of-type {\n",
       "        vertical-align: middle;\n",
       "    }\n",
       "\n",
       "    .dataframe tbody tr th {\n",
       "        vertical-align: top;\n",
       "    }\n",
       "\n",
       "    .dataframe thead th {\n",
       "        text-align: right;\n",
       "    }\n",
       "</style>\n",
       "<table border=\"1\" class=\"dataframe\">\n",
       "  <thead>\n",
       "    <tr style=\"text-align: right;\">\n",
       "      <th></th>\n",
       "      <th>Sales</th>\n",
       "      <th>ES</th>\n",
       "    </tr>\n",
       "  </thead>\n",
       "  <tbody>\n",
       "    <tr>\n",
       "      <th>1</th>\n",
       "      <td>5384</td>\n",
       "      <td>5384</td>\n",
       "    </tr>\n",
       "    <tr>\n",
       "      <th>2</th>\n",
       "      <td>8081</td>\n",
       "      <td>5384</td>\n",
       "    </tr>\n",
       "    <tr>\n",
       "      <th>3</th>\n",
       "      <td>10282</td>\n",
       "      <td>6193</td>\n",
       "    </tr>\n",
       "    <tr>\n",
       "      <th>4</th>\n",
       "      <td>9156</td>\n",
       "      <td>7419</td>\n",
       "    </tr>\n",
       "    <tr>\n",
       "      <th>5</th>\n",
       "      <td>6118</td>\n",
       "      <td>7940</td>\n",
       "    </tr>\n",
       "    <tr>\n",
       "      <th>6</th>\n",
       "      <td>9139</td>\n",
       "      <td>7393</td>\n",
       "    </tr>\n",
       "    <tr>\n",
       "      <th>7</th>\n",
       "      <td>12460</td>\n",
       "      <td>7916</td>\n",
       "    </tr>\n",
       "    <tr>\n",
       "      <th>8</th>\n",
       "      <td>10717</td>\n",
       "      <td>9279</td>\n",
       "    </tr>\n",
       "    <tr>\n",
       "      <th>9</th>\n",
       "      <td>7825</td>\n",
       "      <td>9710</td>\n",
       "    </tr>\n",
       "    <tr>\n",
       "      <th>10</th>\n",
       "      <td>9693</td>\n",
       "      <td>9144</td>\n",
       "    </tr>\n",
       "    <tr>\n",
       "      <th>11</th>\n",
       "      <td>15177</td>\n",
       "      <td>9308</td>\n",
       "    </tr>\n",
       "    <tr>\n",
       "      <th>12</th>\n",
       "      <td>10990</td>\n",
       "      <td>11068</td>\n",
       "    </tr>\n",
       "  </tbody>\n",
       "</table>\n",
       "</div>"
      ],
      "text/plain": [
       "    Sales     ES\n",
       "1    5384   5384\n",
       "2    8081   5384\n",
       "3   10282   6193\n",
       "4    9156   7419\n",
       "5    6118   7940\n",
       "6    9139   7393\n",
       "7   12460   7916\n",
       "8   10717   9279\n",
       "9    7825   9710\n",
       "10   9693   9144\n",
       "11  15177   9308\n",
       "12  10990  11068"
      ]
     },
     "execution_count": 117,
     "metadata": {},
     "output_type": "execute_result"
    }
   ],
   "source": [
    "a = 0.3\n",
    "\n",
    "# Add a Moving Average row \n",
    "temp = data.T\n",
    "temp['ES'] = [0]*12\n",
    "temp['ES'][1] = temp['Sales'][1]\n",
    "\n",
    "for i in range(2, 13):\n",
    "    temp['ES'][i] = a * temp['Sales'][i-1] + (1-a) * temp['ES'][i-1]\n",
    "    \n",
    "temp"
   ]
  },
  {
   "cell_type": "code",
   "execution_count": 118,
   "id": "hollow-verse",
   "metadata": {},
   "outputs": [
    {
     "data": {
      "text/plain": [
       "11044.599999999999"
      ]
     },
     "execution_count": 118,
     "metadata": {},
     "output_type": "execute_result"
    }
   ],
   "source": [
    "# Calculate 13, 14, 15, 16 month \n",
    "temp['ES'][13]  = a * temp['Sales'][12] + (1-a) * temp['ES'][12]\n",
    "# temp['ES'][14]  = \n",
    "# temp['ES'][15]  = \n",
    "# temp['ES'][16]  = \n",
    "temp['ES'][13] "
   ]
  },
  {
   "cell_type": "markdown",
   "id": "suspended-painting",
   "metadata": {},
   "source": [
    "## 3. Predict future demand in month 13,14,15,16 with seasonality"
   ]
  },
  {
   "cell_type": "code",
   "execution_count": null,
   "id": "diagnostic-speed",
   "metadata": {},
   "outputs": [],
   "source": []
  },
  {
   "cell_type": "code",
   "execution_count": null,
   "id": "healthy-distributor",
   "metadata": {},
   "outputs": [],
   "source": []
  },
  {
   "cell_type": "code",
   "execution_count": null,
   "id": "equivalent-budget",
   "metadata": {},
   "outputs": [],
   "source": []
  },
  {
   "cell_type": "code",
   "execution_count": null,
   "id": "other-proof",
   "metadata": {},
   "outputs": [],
   "source": []
  },
  {
   "cell_type": "code",
   "execution_count": null,
   "id": "advised-savage",
   "metadata": {},
   "outputs": [],
   "source": []
  },
  {
   "cell_type": "code",
   "execution_count": null,
   "id": "wanted-nursing",
   "metadata": {},
   "outputs": [],
   "source": []
  },
  {
   "cell_type": "code",
   "execution_count": null,
   "id": "irish-satellite",
   "metadata": {},
   "outputs": [],
   "source": []
  },
  {
   "cell_type": "code",
   "execution_count": null,
   "id": "preliminary-declaration",
   "metadata": {},
   "outputs": [],
   "source": []
  },
  {
   "cell_type": "code",
   "execution_count": null,
   "id": "distant-spanking",
   "metadata": {},
   "outputs": [],
   "source": []
  },
  {
   "cell_type": "code",
   "execution_count": null,
   "id": "simplified-grass",
   "metadata": {},
   "outputs": [],
   "source": []
  },
  {
   "cell_type": "code",
   "execution_count": 1,
   "id": "complicated-swiss",
   "metadata": {},
   "outputs": [],
   "source": [
    "import math\n",
    "def correlation_similarity(v1,v2):\n",
    "    v1 = v1 - np.nanmean(v1)\n",
    "    v2 = v2 - np.nanmean(v2)\n",
    "    \"compute similarity of v1 to v2: (v1 dot v2)/{||v1||*||v2||)\"\n",
    "    sumxx, sumxy, sumyy = 0, 0, 0\n",
    "    for i in range(len(v1)):\n",
    "        x = v1[i]; y = v2[i]\n",
    "        if np.isnan(x) or np.isnan(y) or x == 0 or y ==0: continue\n",
    "        sumxx += x*x\n",
    "        sumyy += y*y\n",
    "        sumxy += x*y\n",
    "    if sumxx == 0 and sumyy == 0:\n",
    "        sumxx = sumyy = 1\n",
    "    return sumxy/math.sqrt(sumxx*sumyy)\n",
    "\n",
    "def sim_matrix(M, dimension='user'):\n",
    "    N = M.shape[0] if dimension == 'user' else M.shape[1]\n",
    "    print(N)\n",
    "    sim = np.zeros([N,N])\n",
    "    for i in range(N):\n",
    "        for j in range(N):\n",
    "            if i == j:\n",
    "                sim[i,j] = 0 #Cancel out the effect of self-similarity in the sums later\n",
    "                continue\n",
    "            if dimension == 'user':\n",
    "                v1, v2 = M[i,:], M[j,:]\n",
    "            else:\n",
    "                v1, v2 = M[:,i], M[:,j]\n",
    "            sim[i][j] = correlation_similarity(v1,v2)\n",
    "    print(sim.shape)\n",
    "    return sim"
   ]
  },
  {
   "cell_type": "code",
   "execution_count": null,
   "id": "danish-provincial",
   "metadata": {},
   "outputs": [],
   "source": []
  }
 ],
 "metadata": {
  "kernelspec": {
   "display_name": "Python 3.7.4 64-bit ('base': conda)",
   "language": "python",
   "name": "python37464bitbasecondab553d9dbafd347bcb6ac64547b6a9f9b"
  },
  "language_info": {
   "codemirror_mode": {
    "name": "ipython",
    "version": 3
   },
   "file_extension": ".py",
   "mimetype": "text/x-python",
   "name": "python",
   "nbconvert_exporter": "python",
   "pygments_lexer": "ipython3",
   "version": "3.7.4"
  }
 },
 "nbformat": 4,
 "nbformat_minor": 5
}
